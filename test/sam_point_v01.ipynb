{
  "nbformat": 4,
  "nbformat_minor": 0,
  "metadata": {
    "colab": {
      "provenance": [],
      "gpuType": "T4",
      "authorship_tag": "ABX9TyPw+9Jp+pj83jPWc2t4gz0e",
      "include_colab_link": true
    },
    "kernelspec": {
      "name": "python3",
      "display_name": "Python 3"
    },
    "language_info": {
      "name": "python"
    },
    "accelerator": "GPU",
    "gpuClass": "standard"
  },
  "cells": [
    {
      "cell_type": "markdown",
      "metadata": {
        "id": "view-in-github",
        "colab_type": "text"
      },
      "source": [
        "<a href=\"https://colab.research.google.com/github/LucasOsco/AI-RemoteSensing/blob/main/image_notebook/sam_point_v01.ipynb\" target=\"_parent\"><img src=\"https://colab.research.google.com/assets/colab-badge.svg\" alt=\"Open In Colab\"/></a>"
      ]
    },
    {
      "cell_type": "markdown",
      "source": [
        "Part of this code utilizes the `segment-geospatial` package, which is a Python package designed for segmenting geospatial data using the Segment Anything Model (SAM). This package was created by Professor Dr. Qiusheng Wu.\n",
        "\n",
        "The `segment-geospatial` package has been adapted from the `segment-anything-eo` repository, originally authored by Aliaksandr Hancharenka. The main goal of the `segment-geospatial` package is to simplify the process of applying SAM to geospatial data analysis, making it more accessible and requiring minimal coding effort.\n",
        "\n",
        "To use this package, it's available for download and installation via PyPI and conda-forge.\n",
        "\n",
        "For more information, details, and examples on how to use this package, you can visit Professor Wu's GitHub page at [https://github.com/opengeos/segment-geospatial](https://github.com/opengeos/segment-geospatial)."
      ],
      "metadata": {
        "id": "3ZuNfQaCUjlv"
      }
    },
    {
      "cell_type": "code",
      "execution_count": null,
      "metadata": {
        "id": "Cf3IX8obUhyZ"
      },
      "outputs": [],
      "source": [
        "# Install the necessary libraries\n",
        "!pip install pycrs segment-geospatial leafmap localtileserver"
      ]
    },
    {
      "cell_type": "code",
      "source": [
        "# Import required libraries\n",
        "import os\n",
        "import zipfile\n",
        "import leafmap\n",
        "import geopandas as gpd\n",
        "import rasterio\n",
        "import glob\n",
        "from rasterio.merge import merge\n",
        "from rasterio.features import shapes\n",
        "from samgeo import SamGeo, tms_to_geotiff\n",
        "from segment_anything import sam_model_registry"
      ],
      "metadata": {
        "id": "Hn3KPcVHUqPX"
      },
      "execution_count": null,
      "outputs": []
    },
    {
      "cell_type": "code",
      "source": [
        "# Define a function to convert the GeoDataFrame to a list of [x, y] pairs\n",
        "def convert_to_coord_pairs(gdf):\n",
        "    \"\"\"Convert the GeoDataFrame to a list of [x, y] pairs.\n",
        "\n",
        "    Args:\n",
        "        gdf (GeoDataFrame): Geospatial data\n",
        "\n",
        "    Returns:\n",
        "        list: A list of [x, y] coordinates\n",
        "    \"\"\"\n",
        "    return [[point.x, point.y] for point in gdf.geometry]"
      ],
      "metadata": {
        "id": "GEM4-t7ry4kk"
      },
      "execution_count": null,
      "outputs": []
    },
    {
      "cell_type": "code",
      "source": [
        "# Define a function to add a file to the zip file\n",
        "def add_to_zip(zipf, output_file):\n",
        "    \"\"\"Add file to zip.\n",
        "\n",
        "    Args:\n",
        "        zipf (zipfile.ZipFile): zip file\n",
        "        output_file (str): file path\n",
        "    \"\"\"\n",
        "    zipf.write(output_file)"
      ],
      "metadata": {
        "id": "iUdfM5OLy7ep"
      },
      "execution_count": null,
      "outputs": []
    },
    {
      "cell_type": "code",
      "source": [
        "# Read the image\n",
        "image = 'Image_Tree.tif' # Switch to your image instead\n",
        "\n",
        "# Read the shapefile\n",
        "shapefile = 'ROI_Point.shp' # Switch to your shapefile instead\n",
        "gdf = gpd.read_file(shapefile)\n",
        "\n",
        "# Convert the GeoDataFrame to a list of [x, y] pairs\n",
        "point_coords = convert_to_coord_pairs(gdf)\n",
        "\n",
        "# Define SAM's model and path\n",
        "out_dir = os.path.join(os.path.expanduser(\"~\"), \"Downloads\")\n",
        "checkpoint = os.path.join(out_dir, \"sam_vit_h_4b8939.pth\")"
      ],
      "metadata": {
        "id": "vn0S0-tQUr_r"
      },
      "execution_count": null,
      "outputs": []
    },
    {
      "cell_type": "code",
      "source": [
        "# Initialize the SamPredictor\n",
        "sam = SamGeo(\n",
        "    model_type=\"vit_h\",\n",
        "    checkpoint=checkpoint,\n",
        "    automatic=False,\n",
        "    sam_kwargs=None,\n",
        ")\n",
        "\n",
        "# Specify the image to segment\n",
        "sam.set_image(image)"
      ],
      "metadata": {
        "id": "TCupDVlDU_XI"
      },
      "execution_count": null,
      "outputs": []
    },
    {
      "cell_type": "code",
      "source": [
        "# Prepare zip file to be saved\n",
        "zip_name = 'masks.zip'\n",
        "zipf = zipfile.ZipFile(zip_name, 'w', zipfile.ZIP_DEFLATED)\n",
        "\n",
        "# Loop through each point in point_coords\n",
        "for i, point in enumerate(point_coords):\n",
        "    # Predict and save to a unique file per point\n",
        "    output_file = f'mask_{i}.tif'\n",
        "    sam.predict([point], point_labels=1, point_crs=\"EPSG:4326\", output=output_file)\n",
        "    \n",
        "    # Add file to zip\n",
        "    add_to_zip(zipf, output_file)\n",
        "\n",
        "# Close the zip file after all files are added\n",
        "zipf.close()"
      ],
      "metadata": {
        "id": "Xtc-SLAJVCwN"
      },
      "execution_count": null,
      "outputs": []
    },
    {
      "cell_type": "code",
      "source": [
        "def load_rasters(file_pattern):\n",
        "    \"\"\"Load rasters based on a file pattern.\n",
        "\n",
        "    Args:\n",
        "        file_pattern (str): File pattern to match (e.g., \"mask_*.tif\")\n",
        "\n",
        "    Returns:\n",
        "        list: A list of rasterio dataset objects\n",
        "    \"\"\"\n",
        "    file_paths = glob.glob(file_pattern)\n",
        "    return [rasterio.open(fp) for fp in file_paths]\n",
        "\n",
        "def merge_rasters(raster_datasets):\n",
        "    \"\"\"Merge a list of raster datasets into one.\n",
        "\n",
        "    Args:\n",
        "        raster_datasets (list): A list of rasterio dataset objects\n",
        "\n",
        "    Returns:\n",
        "        tuple: A tuple containing the merged dataset and the associated transform\n",
        "    \"\"\"\n",
        "    return merge(raster_datasets)\n",
        "\n",
        "def save_merged_raster(merged, transform, meta, output_file):\n",
        "    \"\"\"Save the merged raster to disk.\n",
        "\n",
        "    Args:\n",
        "        merged (numpy array): The merged raster data\n",
        "        transform (Affine): The transformation associated with the merged raster\n",
        "        meta (dict): Metadata to be associated with the output raster\n",
        "        output_file (str): The path to the output file\n",
        "    \"\"\"\n",
        "    meta.update({\n",
        "        \"driver\": \"GTiff\",\n",
        "        \"height\": merged.shape[1],\n",
        "        \"width\": merged.shape[2],\n",
        "        \"transform\": transform,\n",
        "        \"crs\": \"EPSG:4326\"\n",
        "    })\n",
        "\n",
        "    with rasterio.open(output_file, \"w\", **meta) as dest:\n",
        "        dest.write(merged)\n",
        "\n",
        "# Get a list of your mask files\n",
        "dem_fps = load_rasters(\"mask_*.tif\")\n",
        "\n",
        "# Merge them into a single file\n",
        "mosaic, out_trans = merge_rasters(dem_fps)\n",
        "\n",
        "# Copy the metadata\n",
        "out_meta = dem_fps[0].meta.copy()\n",
        "\n",
        "# Define output file\n",
        "output_file = 'mosaic.tif'\n",
        "\n",
        "# Save merged raster\n",
        "save_merged_raster(mosaic, out_trans, out_meta, output_file)\n",
        "\n",
        "# Close the files\n",
        "for src in dem_fps:\n",
        "    src.close()"
      ],
      "metadata": {
        "id": "fq9x-v1FzoLF"
      },
      "execution_count": null,
      "outputs": []
    },
    {
      "cell_type": "code",
      "source": [
        "def mask_to_shapes(mask, transform):\n",
        "    \"\"\"Convert a mask to a list of shapes.\n",
        "\n",
        "    Args:\n",
        "        mask (numpy array): The mask\n",
        "        transform (Affine): The transformation associated with the mask\n",
        "\n",
        "    Returns:\n",
        "        list: A list of dictionary objects representing shapes\n",
        "    \"\"\"\n",
        "    return (\n",
        "        {'properties': {'raster_val': v}, 'geometry': s}\n",
        "        for i, (s, v) in enumerate(shapes(mask, transform=transform))\n",
        "        if v == 255  # Add condition to only keep 'trees'\n",
        "    )\n",
        "\n",
        "def shapes_to_geodataframe(shapes, crs):\n",
        "    \"\"\"Convert a list of shapes to a GeoDataFrame.\n",
        "\n",
        "    Args:\n",
        "        shapes (list): A list of dictionary objects representing shapes\n",
        "        crs (CRS or dict): Coordinate Reference System\n",
        "\n",
        "    Returns:\n",
        "        GeoDataFrame: A GeoDataFrame representing the shapes\n",
        "    \"\"\"\n",
        "    gdf = gpd.GeoDataFrame.from_features(shapes)\n",
        "    gdf.crs = crs\n",
        "    return gdf\n",
        "\n",
        "def save_geodataframe(gdf, filename):\n",
        "    \"\"\"Save a GeoDataFrame to a Shapefile.\n",
        "\n",
        "    Args:\n",
        "        gdf (GeoDataFrame): The GeoDataFrame to be saved\n",
        "        filename (str): The path to the output Shapefile\n",
        "    \"\"\"\n",
        "    gdf.to_file(filename)\n",
        "\n",
        "# Convert the mask to integer type\n",
        "mask = mosaic.astype('int16')\n",
        "\n",
        "# Here, assuming out_trans is your transform and \"EPSG:4326\" is your crs\n",
        "transform = out_trans\n",
        "crs = \"EPSG:4326\"\n",
        "\n",
        "# Convert the mask to a list of shapes\n",
        "geoms = list(mask_to_shapes(mask, transform))\n",
        "\n",
        "# Convert the list of shapes to a GeoDataFrame\n",
        "gdf = shapes_to_geodataframe(geoms, crs)\n",
        "\n",
        "# Save the GeoDataFrame to a Shapefile\n",
        "save_geodataframe(gdf, \"mask.shp\")"
      ],
      "metadata": {
        "id": "bvvIYp9QzSB5"
      },
      "execution_count": null,
      "outputs": []
    },
    {
      "cell_type": "code",
      "source": [
        "# Display the results\n",
        "mosaic = 'mosaic.tif' # Switch to your directory instead\n",
        "style={'color': '#a37aa9',}\n",
        "\n",
        "m = leafmap.Map(center=shapefile)\n",
        "m.add_raster(mosaic, layer_name=\"Mask Mosaic\",cmap=\"viridis_r\", opacity=0.5)\n",
        "m.add_vector(shapefile, layer_name='Vector', style=style)\n",
        "m"
      ],
      "metadata": {
        "id": "fps-uzWDVU9P"
      },
      "execution_count": null,
      "outputs": []
    }
  ]
}