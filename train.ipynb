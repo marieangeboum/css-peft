{
 "cells": [
  {
   "cell_type": "code",
   "execution_count": 1,
   "metadata": {},
   "outputs": [],
   "source": [
    "from model.vit import VisionTransformer"
   ]
  },
  {
   "cell_type": "code",
   "execution_count": 4,
   "metadata": {},
   "outputs": [
    {
     "data": {
      "text/plain": [
       "(0.17254901960784313, 0.6274509803921569, 0.17254901960784313)"
      ]
     },
     "execution_count": 4,
     "metadata": {},
     "output_type": "execute_result"
    }
   ],
   "source": [
    "plt.cm.tab20(3 /13)[:3]"
   ]
  },
  {
   "cell_type": "code",
   "execution_count": 9,
   "metadata": {},
   "outputs": [],
   "source": [
    "import numpy as np\n",
    "import matplotlib.pyplot as plt\n",
    "import matplotlib.patches as mpatches\n",
    "\n",
    "# Simuler des données pour l'exemple\n",
    "np.random.seed(42)  # Pour la reproductibilité\n",
    "\n",
    "# Dimensions de l'image et des masques\n",
    "height, width = 256, 256\n",
    "num_classes = 13\n",
    "\n",
    "# Créer une image RGB synthétique\n",
    "image = np.random.rand(height, width, 3)\n",
    "\n",
    "# Créer une prédiction et une vérité terrain synthétiques\n",
    "prediction = np.random.randint(0, num_classes, size=(height, width))\n",
    "target_view = np.random.randint(0, num_classes, size=(height, width))\n",
    "\n",
    "# Labels de classe (doit correspondre à votre exemple)\n",
    "class_labels = {\n",
    "    0: 'building',\n",
    "    1: 'pervious surface',\n",
    "    2: 'impervious surface',\n",
    "    3: 'bare soil',\n",
    "    4: 'water',\n",
    "    5: 'coniferous',\n",
    "    6: 'deciduous',\n",
    "    7: 'brushwood',\n",
    "    8: 'vineyard',\n",
    "    9: 'herbaceous vegetation',\n",
    "    10: 'agricultural land',\n",
    "    11: 'plowed land',\n",
    "    12: 'other'\n",
    "}\n",
    "\n",
    "# Génération de la légende\n",
    "legend_patches = [mpatches.Patch(color=plt.cm.tab20(i / num_classes), label=class_labels[i]) for i in class_labels]\n",
    "\n",
    "# Fonction pour superposer une segmentation sur une image\n",
    "def overlay_segmentation(image, segmentation, alpha=0.5):\n",
    "    overlay = image.copy()\n",
    "    for class_id, class_name in class_labels.items():\n",
    "        color = plt.cm.tab20(class_id / num_classes)[:3]  # Obtenir les 3 premières valeurs (RGB)\n",
    "        overlay[segmentation == class_id] = color\n",
    "    return (1 - alpha) * image + alpha * overlay\n",
    "\n",
    "# Superposer les prédictions et la vérité terrain\n",
    "overlay_pred = overlay_segmentation(image, prediction)\n",
    "overlay_target = overlay_segmentation(image, target_view)\n",
    "\n",
    "# Tracer les images\n",
    "fig, axs = plt.subplots(1, 2, figsize=(15, 7.5))\n",
    "\n",
    "# Image avec prédictions superposées\n",
    "axs[0].imshow(overlay_pred)\n",
    "axs[0].set_title('Prédictions Superposées')\n",
    "axs[0].axis('off')\n",
    "\n",
    "# Image avec vérité terrain superposée\n",
    "axs[1].imshow(overlay_target)\n",
    "axs[1].set_title('Vérité Terrain Superposée')\n",
    "axs[1].axis('off')\n",
    "\n",
    "# Ajouter la légende\n",
    "fig.legend(handles=legend_patches, loc='upper center', ncol=4, bbox_to_anchor=(0.5, 0.11), fontsize='small')\n",
    "\n",
    "# Sauvegarder l'image dans un fichier .png\n",
    "plt.savefig('segmentation_overlay_demo.png', bbox_inches='tight', dpi=300)\n",
    "plt.show()"
   ]
  },
  {
   "cell_type": "code",
   "execution_count": 2,
   "metadata": {},
   "outputs": [],
   "source": [
    "vit = VisionTransformer(\n",
    "                image_size = 1024,\n",
    "                patch_size = 16,\n",
    "                n_layers = 32,\n",
    "                d_model = 1280,\n",
    "                d_ff = 4*1280,\n",
    "                n_heads = 16,\n",
    "                n_cls = 13,\n",
    "                dropout=0.1,\n",
    "                drop_path_rate=0.0,\n",
    "                distilled=False,\n",
    "                channels=3,\n",
    "            )"
   ]
  },
  {
   "cell_type": "code",
   "execution_count": 4,
   "metadata": {},
   "outputs": [],
   "source": [
    "import torch\n",
    "chckpts = torch.load(\"/run/user/108646/gvfs/sftp:host=flexo/d/maboum/JSTARS/segmentation/checkpoints/sam_vit_h_4b8939.pth\")\n",
    "#vit.load_state_dict(chckpts)"
   ]
  },
  {
   "cell_type": "code",
   "execution_count": 5,
   "metadata": {},
   "outputs": [
    {
     "data": {
      "text/plain": [
       "dict_keys(['neck.0.weight', 'neck.1.weight', 'neck.1.bias', 'neck.2.weight', 'neck.3.weight', 'neck.3.bias', 'patch_embed.proj.weight', 'patch_embed.proj.bias', 'blocks.0.norm1.weight', 'blocks.0.norm1.bias', 'blocks.0.attn.rel_pos_h', 'blocks.0.attn.rel_pos_w', 'blocks.0.attn.qkv.weight', 'blocks.0.attn.qkv.bias', 'blocks.0.attn.proj.weight', 'blocks.0.attn.proj.bias', 'blocks.0.norm2.weight', 'blocks.0.norm2.bias', 'blocks.0.mlp.fc1.weight', 'blocks.0.mlp.fc1.bias', 'blocks.0.mlp.fc2.weight', 'blocks.0.mlp.fc2.bias', 'blocks.1.norm1.weight', 'blocks.1.norm1.bias', 'blocks.1.attn.rel_pos_h', 'blocks.1.attn.rel_pos_w', 'blocks.1.attn.qkv.weight', 'blocks.1.attn.qkv.bias', 'blocks.1.attn.proj.weight', 'blocks.1.attn.proj.bias', 'blocks.1.norm2.weight', 'blocks.1.norm2.bias', 'blocks.1.mlp.fc1.weight', 'blocks.1.mlp.fc1.bias', 'blocks.1.mlp.fc2.weight', 'blocks.1.mlp.fc2.bias', 'blocks.2.norm1.weight', 'blocks.2.norm1.bias', 'blocks.2.attn.rel_pos_h', 'blocks.2.attn.rel_pos_w', 'blocks.2.attn.qkv.weight', 'blocks.2.attn.qkv.bias', 'blocks.2.attn.proj.weight', 'blocks.2.attn.proj.bias', 'blocks.2.norm2.weight', 'blocks.2.norm2.bias', 'blocks.2.mlp.fc1.weight', 'blocks.2.mlp.fc1.bias', 'blocks.2.mlp.fc2.weight', 'blocks.2.mlp.fc2.bias', 'blocks.3.norm1.weight', 'blocks.3.norm1.bias', 'blocks.3.attn.rel_pos_h', 'blocks.3.attn.rel_pos_w', 'blocks.3.attn.qkv.weight', 'blocks.3.attn.qkv.bias', 'blocks.3.attn.proj.weight', 'blocks.3.attn.proj.bias', 'blocks.3.norm2.weight', 'blocks.3.norm2.bias', 'blocks.3.mlp.fc1.weight', 'blocks.3.mlp.fc1.bias', 'blocks.3.mlp.fc2.weight', 'blocks.3.mlp.fc2.bias', 'blocks.4.norm1.weight', 'blocks.4.norm1.bias', 'blocks.4.attn.rel_pos_h', 'blocks.4.attn.rel_pos_w', 'blocks.4.attn.qkv.weight', 'blocks.4.attn.qkv.bias', 'blocks.4.attn.proj.weight', 'blocks.4.attn.proj.bias', 'blocks.4.norm2.weight', 'blocks.4.norm2.bias', 'blocks.4.mlp.fc1.weight', 'blocks.4.mlp.fc1.bias', 'blocks.4.mlp.fc2.weight', 'blocks.4.mlp.fc2.bias', 'blocks.5.norm1.weight', 'blocks.5.norm1.bias', 'blocks.5.attn.rel_pos_h', 'blocks.5.attn.rel_pos_w', 'blocks.5.attn.qkv.weight', 'blocks.5.attn.qkv.bias', 'blocks.5.attn.proj.weight', 'blocks.5.attn.proj.bias', 'blocks.5.norm2.weight', 'blocks.5.norm2.bias', 'blocks.5.mlp.fc1.weight', 'blocks.5.mlp.fc1.bias', 'blocks.5.mlp.fc2.weight', 'blocks.5.mlp.fc2.bias', 'blocks.6.norm1.weight', 'blocks.6.norm1.bias', 'blocks.6.attn.rel_pos_h', 'blocks.6.attn.rel_pos_w', 'blocks.6.attn.qkv.weight', 'blocks.6.attn.qkv.bias', 'blocks.6.attn.proj.weight', 'blocks.6.attn.proj.bias', 'blocks.6.norm2.weight', 'blocks.6.norm2.bias', 'blocks.6.mlp.fc1.weight', 'blocks.6.mlp.fc1.bias', 'blocks.6.mlp.fc2.weight', 'blocks.6.mlp.fc2.bias', 'blocks.7.norm1.weight', 'blocks.7.norm1.bias', 'blocks.7.attn.rel_pos_h', 'blocks.7.attn.rel_pos_w', 'blocks.7.attn.qkv.weight', 'blocks.7.attn.qkv.bias', 'blocks.7.attn.proj.weight', 'blocks.7.attn.proj.bias', 'blocks.7.norm2.weight', 'blocks.7.norm2.bias', 'blocks.7.mlp.fc1.weight', 'blocks.7.mlp.fc1.bias', 'blocks.7.mlp.fc2.weight', 'blocks.7.mlp.fc2.bias', 'blocks.8.norm1.weight', 'blocks.8.norm1.bias', 'blocks.8.attn.rel_pos_h', 'blocks.8.attn.rel_pos_w', 'blocks.8.attn.qkv.weight', 'blocks.8.attn.qkv.bias', 'blocks.8.attn.proj.weight', 'blocks.8.attn.proj.bias', 'blocks.8.norm2.weight', 'blocks.8.norm2.bias', 'blocks.8.mlp.fc1.weight', 'blocks.8.mlp.fc1.bias', 'blocks.8.mlp.fc2.weight', 'blocks.8.mlp.fc2.bias', 'blocks.9.norm1.weight', 'blocks.9.norm1.bias', 'blocks.9.attn.rel_pos_h', 'blocks.9.attn.rel_pos_w', 'blocks.9.attn.qkv.weight', 'blocks.9.attn.qkv.bias', 'blocks.9.attn.proj.weight', 'blocks.9.attn.proj.bias', 'blocks.9.norm2.weight', 'blocks.9.norm2.bias', 'blocks.9.mlp.fc1.weight', 'blocks.9.mlp.fc1.bias', 'blocks.9.mlp.fc2.weight', 'blocks.9.mlp.fc2.bias', 'blocks.10.norm1.weight', 'blocks.10.norm1.bias', 'blocks.10.attn.rel_pos_h', 'blocks.10.attn.rel_pos_w', 'blocks.10.attn.qkv.weight', 'blocks.10.attn.qkv.bias', 'blocks.10.attn.proj.weight', 'blocks.10.attn.proj.bias', 'blocks.10.norm2.weight', 'blocks.10.norm2.bias', 'blocks.10.mlp.fc1.weight', 'blocks.10.mlp.fc1.bias', 'blocks.10.mlp.fc2.weight', 'blocks.10.mlp.fc2.bias', 'blocks.11.norm1.weight', 'blocks.11.norm1.bias', 'blocks.11.attn.rel_pos_h', 'blocks.11.attn.rel_pos_w', 'blocks.11.attn.qkv.weight', 'blocks.11.attn.qkv.bias', 'blocks.11.attn.proj.weight', 'blocks.11.attn.proj.bias', 'blocks.11.norm2.weight', 'blocks.11.norm2.bias', 'blocks.11.mlp.fc1.weight', 'blocks.11.mlp.fc1.bias', 'blocks.11.mlp.fc2.weight', 'blocks.11.mlp.fc2.bias', 'blocks.12.norm1.weight', 'blocks.12.norm1.bias', 'blocks.12.attn.rel_pos_h', 'blocks.12.attn.rel_pos_w', 'blocks.12.attn.qkv.weight', 'blocks.12.attn.qkv.bias', 'blocks.12.attn.proj.weight', 'blocks.12.attn.proj.bias', 'blocks.12.norm2.weight', 'blocks.12.norm2.bias', 'blocks.12.mlp.fc1.weight', 'blocks.12.mlp.fc1.bias', 'blocks.12.mlp.fc2.weight', 'blocks.12.mlp.fc2.bias', 'blocks.13.norm1.weight', 'blocks.13.norm1.bias', 'blocks.13.attn.rel_pos_h', 'blocks.13.attn.rel_pos_w', 'blocks.13.attn.qkv.weight', 'blocks.13.attn.qkv.bias', 'blocks.13.attn.proj.weight', 'blocks.13.attn.proj.bias', 'blocks.13.norm2.weight', 'blocks.13.norm2.bias', 'blocks.13.mlp.fc1.weight', 'blocks.13.mlp.fc1.bias', 'blocks.13.mlp.fc2.weight', 'blocks.13.mlp.fc2.bias', 'blocks.14.norm1.weight', 'blocks.14.norm1.bias', 'blocks.14.attn.rel_pos_h', 'blocks.14.attn.rel_pos_w', 'blocks.14.attn.qkv.weight', 'blocks.14.attn.qkv.bias', 'blocks.14.attn.proj.weight', 'blocks.14.attn.proj.bias', 'blocks.14.norm2.weight', 'blocks.14.norm2.bias', 'blocks.14.mlp.fc1.weight', 'blocks.14.mlp.fc1.bias', 'blocks.14.mlp.fc2.weight', 'blocks.14.mlp.fc2.bias', 'blocks.15.norm1.weight', 'blocks.15.norm1.bias', 'blocks.15.attn.rel_pos_h', 'blocks.15.attn.rel_pos_w', 'blocks.15.attn.qkv.weight', 'blocks.15.attn.qkv.bias', 'blocks.15.attn.proj.weight', 'blocks.15.attn.proj.bias', 'blocks.15.norm2.weight', 'blocks.15.norm2.bias', 'blocks.15.mlp.fc1.weight', 'blocks.15.mlp.fc1.bias', 'blocks.15.mlp.fc2.weight', 'blocks.15.mlp.fc2.bias', 'blocks.16.norm1.weight', 'blocks.16.norm1.bias', 'blocks.16.attn.rel_pos_h', 'blocks.16.attn.rel_pos_w', 'blocks.16.attn.qkv.weight', 'blocks.16.attn.qkv.bias', 'blocks.16.attn.proj.weight', 'blocks.16.attn.proj.bias', 'blocks.16.norm2.weight', 'blocks.16.norm2.bias', 'blocks.16.mlp.fc1.weight', 'blocks.16.mlp.fc1.bias', 'blocks.16.mlp.fc2.weight', 'blocks.16.mlp.fc2.bias', 'blocks.17.norm1.weight', 'blocks.17.norm1.bias', 'blocks.17.attn.rel_pos_h', 'blocks.17.attn.rel_pos_w', 'blocks.17.attn.qkv.weight', 'blocks.17.attn.qkv.bias', 'blocks.17.attn.proj.weight', 'blocks.17.attn.proj.bias', 'blocks.17.norm2.weight', 'blocks.17.norm2.bias', 'blocks.17.mlp.fc1.weight', 'blocks.17.mlp.fc1.bias', 'blocks.17.mlp.fc2.weight', 'blocks.17.mlp.fc2.bias', 'blocks.18.norm1.weight', 'blocks.18.norm1.bias', 'blocks.18.attn.rel_pos_h', 'blocks.18.attn.rel_pos_w', 'blocks.18.attn.qkv.weight', 'blocks.18.attn.qkv.bias', 'blocks.18.attn.proj.weight', 'blocks.18.attn.proj.bias', 'blocks.18.norm2.weight', 'blocks.18.norm2.bias', 'blocks.18.mlp.fc1.weight', 'blocks.18.mlp.fc1.bias', 'blocks.18.mlp.fc2.weight', 'blocks.18.mlp.fc2.bias', 'blocks.19.norm1.weight', 'blocks.19.norm1.bias', 'blocks.19.attn.rel_pos_h', 'blocks.19.attn.rel_pos_w', 'blocks.19.attn.qkv.weight', 'blocks.19.attn.qkv.bias', 'blocks.19.attn.proj.weight', 'blocks.19.attn.proj.bias', 'blocks.19.norm2.weight', 'blocks.19.norm2.bias', 'blocks.19.mlp.fc1.weight', 'blocks.19.mlp.fc1.bias', 'blocks.19.mlp.fc2.weight', 'blocks.19.mlp.fc2.bias', 'blocks.20.norm1.weight', 'blocks.20.norm1.bias', 'blocks.20.attn.rel_pos_h', 'blocks.20.attn.rel_pos_w', 'blocks.20.attn.qkv.weight', 'blocks.20.attn.qkv.bias', 'blocks.20.attn.proj.weight', 'blocks.20.attn.proj.bias', 'blocks.20.norm2.weight', 'blocks.20.norm2.bias', 'blocks.20.mlp.fc1.weight', 'blocks.20.mlp.fc1.bias', 'blocks.20.mlp.fc2.weight', 'blocks.20.mlp.fc2.bias', 'blocks.21.norm1.weight', 'blocks.21.norm1.bias', 'blocks.21.attn.rel_pos_h', 'blocks.21.attn.rel_pos_w', 'blocks.21.attn.qkv.weight', 'blocks.21.attn.qkv.bias', 'blocks.21.attn.proj.weight', 'blocks.21.attn.proj.bias', 'blocks.21.norm2.weight', 'blocks.21.norm2.bias', 'blocks.21.mlp.fc1.weight', 'blocks.21.mlp.fc1.bias', 'blocks.21.mlp.fc2.weight', 'blocks.21.mlp.fc2.bias', 'blocks.22.norm1.weight', 'blocks.22.norm1.bias', 'blocks.22.attn.rel_pos_h', 'blocks.22.attn.rel_pos_w', 'blocks.22.attn.qkv.weight', 'blocks.22.attn.qkv.bias', 'blocks.22.attn.proj.weight', 'blocks.22.attn.proj.bias', 'blocks.22.norm2.weight', 'blocks.22.norm2.bias', 'blocks.22.mlp.fc1.weight', 'blocks.22.mlp.fc1.bias', 'blocks.22.mlp.fc2.weight', 'blocks.22.mlp.fc2.bias', 'blocks.23.norm1.weight', 'blocks.23.norm1.bias', 'blocks.23.attn.rel_pos_h', 'blocks.23.attn.rel_pos_w', 'blocks.23.attn.qkv.weight', 'blocks.23.attn.qkv.bias', 'blocks.23.attn.proj.weight', 'blocks.23.attn.proj.bias', 'blocks.23.norm2.weight', 'blocks.23.norm2.bias', 'blocks.23.mlp.fc1.weight', 'blocks.23.mlp.fc1.bias', 'blocks.23.mlp.fc2.weight', 'blocks.23.mlp.fc2.bias', 'blocks.24.norm1.weight', 'blocks.24.norm1.bias', 'blocks.24.attn.rel_pos_h', 'blocks.24.attn.rel_pos_w', 'blocks.24.attn.qkv.weight', 'blocks.24.attn.qkv.bias', 'blocks.24.attn.proj.weight', 'blocks.24.attn.proj.bias', 'blocks.24.norm2.weight', 'blocks.24.norm2.bias', 'blocks.24.mlp.fc1.weight', 'blocks.24.mlp.fc1.bias', 'blocks.24.mlp.fc2.weight', 'blocks.24.mlp.fc2.bias', 'blocks.25.norm1.weight', 'blocks.25.norm1.bias', 'blocks.25.attn.rel_pos_h', 'blocks.25.attn.rel_pos_w', 'blocks.25.attn.qkv.weight', 'blocks.25.attn.qkv.bias', 'blocks.25.attn.proj.weight', 'blocks.25.attn.proj.bias', 'blocks.25.norm2.weight', 'blocks.25.norm2.bias', 'blocks.25.mlp.fc1.weight', 'blocks.25.mlp.fc1.bias', 'blocks.25.mlp.fc2.weight', 'blocks.25.mlp.fc2.bias', 'blocks.26.norm1.weight', 'blocks.26.norm1.bias', 'blocks.26.attn.rel_pos_h', 'blocks.26.attn.rel_pos_w', 'blocks.26.attn.qkv.weight', 'blocks.26.attn.qkv.bias', 'blocks.26.attn.proj.weight', 'blocks.26.attn.proj.bias', 'blocks.26.norm2.weight', 'blocks.26.norm2.bias', 'blocks.26.mlp.fc1.weight', 'blocks.26.mlp.fc1.bias', 'blocks.26.mlp.fc2.weight', 'blocks.26.mlp.fc2.bias', 'blocks.27.norm1.weight', 'blocks.27.norm1.bias', 'blocks.27.attn.rel_pos_h', 'blocks.27.attn.rel_pos_w', 'blocks.27.attn.qkv.weight', 'blocks.27.attn.qkv.bias', 'blocks.27.attn.proj.weight', 'blocks.27.attn.proj.bias', 'blocks.27.norm2.weight', 'blocks.27.norm2.bias', 'blocks.27.mlp.fc1.weight', 'blocks.27.mlp.fc1.bias', 'blocks.27.mlp.fc2.weight', 'blocks.27.mlp.fc2.bias', 'blocks.28.norm1.weight', 'blocks.28.norm1.bias', 'blocks.28.attn.rel_pos_h', 'blocks.28.attn.rel_pos_w', 'blocks.28.attn.qkv.weight', 'blocks.28.attn.qkv.bias', 'blocks.28.attn.proj.weight', 'blocks.28.attn.proj.bias', 'blocks.28.norm2.weight', 'blocks.28.norm2.bias', 'blocks.28.mlp.fc1.weight', 'blocks.28.mlp.fc1.bias', 'blocks.28.mlp.fc2.weight', 'blocks.28.mlp.fc2.bias', 'blocks.29.norm1.weight', 'blocks.29.norm1.bias', 'blocks.29.attn.rel_pos_h', 'blocks.29.attn.rel_pos_w', 'blocks.29.attn.qkv.weight', 'blocks.29.attn.qkv.bias', 'blocks.29.attn.proj.weight', 'blocks.29.attn.proj.bias', 'blocks.29.norm2.weight', 'blocks.29.norm2.bias', 'blocks.29.mlp.fc1.weight', 'blocks.29.mlp.fc1.bias', 'blocks.29.mlp.fc2.weight', 'blocks.29.mlp.fc2.bias', 'blocks.30.norm1.weight', 'blocks.30.norm1.bias', 'blocks.30.attn.rel_pos_h', 'blocks.30.attn.rel_pos_w', 'blocks.30.attn.qkv.weight', 'blocks.30.attn.qkv.bias', 'blocks.30.attn.proj.weight', 'blocks.30.attn.proj.bias', 'blocks.30.norm2.weight', 'blocks.30.norm2.bias', 'blocks.30.mlp.fc1.weight', 'blocks.30.mlp.fc1.bias', 'blocks.30.mlp.fc2.weight', 'blocks.30.mlp.fc2.bias', 'blocks.31.norm1.weight', 'blocks.31.norm1.bias', 'blocks.31.attn.rel_pos_h', 'blocks.31.attn.rel_pos_w', 'blocks.31.attn.qkv.weight', 'blocks.31.attn.qkv.bias', 'blocks.31.attn.proj.weight', 'blocks.31.attn.proj.bias', 'blocks.31.norm2.weight', 'blocks.31.norm2.bias', 'blocks.31.mlp.fc1.weight', 'blocks.31.mlp.fc1.bias', 'blocks.31.mlp.fc2.weight', 'blocks.31.mlp.fc2.bias', 'prompt_encoder.pe_layer.positional_encoding_gaussian_matrix', 'mask_decoder.transformer.layers.0.self_attn.q_proj.weight', 'mask_decoder.transformer.layers.0.self_attn.q_proj.bias', 'mask_decoder.transformer.layers.0.self_attn.k_proj.weight', 'mask_decoder.transformer.layers.0.self_attn.k_proj.bias', 'mask_decoder.transformer.layers.0.self_attn.v_proj.weight', 'mask_decoder.transformer.layers.0.self_attn.v_proj.bias', 'mask_decoder.transformer.layers.0.self_attn.out_proj.weight', 'mask_decoder.transformer.layers.0.self_attn.out_proj.bias', 'mask_decoder.transformer.layers.0.norm1.weight', 'mask_decoder.transformer.layers.0.norm1.bias', 'mask_decoder.transformer.layers.0.cross_attn_token_to_image.q_proj.weight', 'mask_decoder.transformer.layers.0.cross_attn_token_to_image.q_proj.bias', 'mask_decoder.transformer.layers.0.cross_attn_token_to_image.k_proj.weight', 'mask_decoder.transformer.layers.0.cross_attn_token_to_image.k_proj.bias', 'mask_decoder.transformer.layers.0.cross_attn_token_to_image.v_proj.weight', 'mask_decoder.transformer.layers.0.cross_attn_token_to_image.v_proj.bias', 'mask_decoder.transformer.layers.0.cross_attn_token_to_image.out_proj.weight', 'mask_decoder.transformer.layers.0.cross_attn_token_to_image.out_proj.bias', 'mask_decoder.transformer.layers.0.norm2.weight', 'mask_decoder.transformer.layers.0.norm2.bias', 'mask_decoder.transformer.layers.0.mlp.fc1.weight', 'mask_decoder.transformer.layers.0.mlp.fc1.bias', 'mask_decoder.transformer.layers.0.mlp.fc2.weight', 'mask_decoder.transformer.layers.0.mlp.fc2.bias', 'mask_decoder.transformer.layers.0.norm3.weight', 'mask_decoder.transformer.layers.0.norm3.bias', 'mask_decoder.transformer.layers.0.norm4.weight', 'mask_decoder.transformer.layers.0.norm4.bias', 'mask_decoder.transformer.layers.0.cross_attn_image_to_token.q_proj.weight', 'mask_decoder.transformer.layers.0.cross_attn_image_to_token.q_proj.bias', 'mask_decoder.transformer.layers.0.cross_attn_image_to_token.k_proj.weight', 'mask_decoder.transformer.layers.0.cross_attn_image_to_token.k_proj.bias', 'mask_decoder.transformer.layers.0.cross_attn_image_to_token.v_proj.weight', 'mask_decoder.transformer.layers.0.cross_attn_image_to_token.v_proj.bias', 'mask_decoder.transformer.layers.0.cross_attn_image_to_token.out_proj.weight', 'mask_decoder.transformer.layers.0.cross_attn_image_to_token.out_proj.bias', 'mask_decoder.transformer.layers.1.self_attn.q_proj.weight', 'mask_decoder.transformer.layers.1.self_attn.q_proj.bias', 'mask_decoder.transformer.layers.1.self_attn.k_proj.weight', 'mask_decoder.transformer.layers.1.self_attn.k_proj.bias', 'mask_decoder.transformer.layers.1.self_attn.v_proj.weight', 'mask_decoder.transformer.layers.1.self_attn.v_proj.bias', 'mask_decoder.transformer.layers.1.self_attn.out_proj.weight', 'mask_decoder.transformer.layers.1.self_attn.out_proj.bias', 'mask_decoder.transformer.layers.1.norm1.weight', 'mask_decoder.transformer.layers.1.norm1.bias', 'mask_decoder.transformer.layers.1.cross_attn_token_to_image.q_proj.weight', 'mask_decoder.transformer.layers.1.cross_attn_token_to_image.q_proj.bias', 'mask_decoder.transformer.layers.1.cross_attn_token_to_image.k_proj.weight', 'mask_decoder.transformer.layers.1.cross_attn_token_to_image.k_proj.bias', 'mask_decoder.transformer.layers.1.cross_attn_token_to_image.v_proj.weight', 'mask_decoder.transformer.layers.1.cross_attn_token_to_image.v_proj.bias', 'mask_decoder.transformer.layers.1.cross_attn_token_to_image.out_proj.weight', 'mask_decoder.transformer.layers.1.cross_attn_token_to_image.out_proj.bias', 'mask_decoder.transformer.layers.1.norm2.weight', 'mask_decoder.transformer.layers.1.norm2.bias', 'mask_decoder.transformer.layers.1.mlp.fc1.weight', 'mask_decoder.transformer.layers.1.mlp.fc1.bias', 'mask_decoder.transformer.layers.1.mlp.fc2.weight', 'mask_decoder.transformer.layers.1.mlp.fc2.bias', 'mask_decoder.transformer.layers.1.norm3.weight', 'mask_decoder.transformer.layers.1.norm3.bias', 'mask_decoder.transformer.layers.1.norm4.weight', 'mask_decoder.transformer.layers.1.norm4.bias', 'mask_decoder.transformer.layers.1.cross_attn_image_to_token.q_proj.weight', 'mask_decoder.transformer.layers.1.cross_attn_image_to_token.q_proj.bias', 'mask_decoder.transformer.layers.1.cross_attn_image_to_token.k_proj.weight', 'mask_decoder.transformer.layers.1.cross_attn_image_to_token.k_proj.bias', 'mask_decoder.transformer.layers.1.cross_attn_image_to_token.v_proj.weight', 'mask_decoder.transformer.layers.1.cross_attn_image_to_token.v_proj.bias', 'mask_decoder.transformer.layers.1.cross_attn_image_to_token.out_proj.weight', 'mask_decoder.transformer.layers.1.cross_attn_image_to_token.out_proj.bias', 'mask_decoder.transformer.final_attn_token_to_image.q_proj.weight', 'mask_decoder.transformer.final_attn_token_to_image.q_proj.bias', 'mask_decoder.transformer.final_attn_token_to_image.k_proj.weight', 'mask_decoder.transformer.final_attn_token_to_image.k_proj.bias', 'mask_decoder.transformer.final_attn_token_to_image.v_proj.weight', 'mask_decoder.transformer.final_attn_token_to_image.v_proj.bias', 'mask_decoder.transformer.final_attn_token_to_image.out_proj.weight', 'mask_decoder.transformer.final_attn_token_to_image.out_proj.bias', 'mask_decoder.transformer.norm_final_attn.weight', 'mask_decoder.transformer.norm_final_attn.bias', 'prompt_encoder.point_embeddings.0.weight', 'prompt_encoder.point_embeddings.1.weight', 'prompt_encoder.point_embeddings.2.weight', 'prompt_encoder.point_embeddings.3.weight', 'prompt_encoder.not_a_point_embed.weight', 'mask_decoder.output_upscaling.0.weight', 'mask_decoder.output_upscaling.0.bias', 'mask_decoder.output_upscaling.1.weight', 'mask_decoder.output_upscaling.1.bias', 'mask_decoder.output_upscaling.3.weight', 'mask_decoder.output_upscaling.3.bias', 'mask_decoder.output_hypernetworks_mlps.0.layers.0.weight', 'mask_decoder.output_hypernetworks_mlps.0.layers.0.bias', 'mask_decoder.output_hypernetworks_mlps.0.layers.1.weight', 'mask_decoder.output_hypernetworks_mlps.0.layers.1.bias', 'mask_decoder.output_hypernetworks_mlps.0.layers.2.weight', 'mask_decoder.output_hypernetworks_mlps.0.layers.2.bias', 'mask_decoder.output_hypernetworks_mlps.1.layers.0.weight', 'mask_decoder.output_hypernetworks_mlps.1.layers.0.bias', 'mask_decoder.output_hypernetworks_mlps.1.layers.1.weight', 'mask_decoder.output_hypernetworks_mlps.1.layers.1.bias', 'mask_decoder.output_hypernetworks_mlps.1.layers.2.weight', 'mask_decoder.output_hypernetworks_mlps.1.layers.2.bias', 'mask_decoder.output_hypernetworks_mlps.2.layers.0.weight', 'mask_decoder.output_hypernetworks_mlps.2.layers.0.bias', 'mask_decoder.output_hypernetworks_mlps.2.layers.1.weight', 'mask_decoder.output_hypernetworks_mlps.2.layers.1.bias', 'mask_decoder.output_hypernetworks_mlps.2.layers.2.weight', 'mask_decoder.output_hypernetworks_mlps.2.layers.2.bias', 'mask_decoder.output_hypernetworks_mlps.3.layers.0.weight', 'mask_decoder.output_hypernetworks_mlps.3.layers.0.bias', 'mask_decoder.output_hypernetworks_mlps.3.layers.1.weight', 'mask_decoder.output_hypernetworks_mlps.3.layers.1.bias', 'mask_decoder.output_hypernetworks_mlps.3.layers.2.weight', 'mask_decoder.output_hypernetworks_mlps.3.layers.2.bias', 'prompt_encoder.mask_downscaling.0.weight', 'prompt_encoder.mask_downscaling.0.bias', 'prompt_encoder.mask_downscaling.1.weight', 'prompt_encoder.mask_downscaling.1.bias', 'prompt_encoder.mask_downscaling.3.weight', 'prompt_encoder.mask_downscaling.3.bias', 'prompt_encoder.mask_downscaling.4.weight', 'prompt_encoder.mask_downscaling.4.bias', 'prompt_encoder.mask_downscaling.6.weight', 'prompt_encoder.mask_downscaling.6.bias', 'prompt_encoder.no_mask_embed.weight', 'mask_decoder.iou_prediction_head.layers.0.weight', 'mask_decoder.iou_prediction_head.layers.0.bias', 'mask_decoder.iou_prediction_head.layers.1.weight', 'mask_decoder.iou_prediction_head.layers.1.bias', 'mask_decoder.iou_prediction_head.layers.2.weight', 'mask_decoder.iou_prediction_head.layers.2.bias', 'mask_decoder.iou_token.weight', 'mask_decoder.mask_tokens.weight', 'pos_embed'])"
      ]
     },
     "execution_count": 5,
     "metadata": {},
     "output_type": "execute_result"
    }
   ],
   "source": [
    "# Modify the keys\n",
    "new_checkpoint = {}\n",
    "for key, value in chckpts.items():    \n",
    "    new_key = key.replace(\"image_encoder.\", \"\")  # Replace \"image_encoder\" with an empty string\n",
    "    new_key = new_key.replace(\".lin\", \".fc\")\n",
    "    #print(new_key)\n",
    "    new_checkpoint[new_key] = value\n",
    "new_checkpoint.keys()\n",
    "# Save the modified checkpoint\n",
    "#torch.save(new_checkpoint, \"/d/maboum/JSTARS/segmentation/checkpoints/sam_vit_h_4b8939v2.pth\")\n"
   ]
  },
  {
   "cell_type": "code",
   "execution_count": 8,
   "metadata": {},
   "outputs": [
    {
     "ename": "RuntimeError",
     "evalue": "Error(s) in loading state_dict for VisionTransformer:\n\tsize mismatch for pos_embed: copying a param with shape torch.Size([1, 64, 64, 1280]) from checkpoint, the shape in current model is torch.Size([1, 4097, 1280]).",
     "output_type": "error",
     "traceback": [
      "Traceback \u001b[1;36m(most recent call last)\u001b[0m:\n",
      "\u001b[0m  Cell \u001b[0;32mIn[8], line 1\u001b[0m\n    vit.load_state_dict(new_checkpoint,False)\u001b[0m\n",
      "\u001b[1;36m  File \u001b[1;32m~/.local/lib/python3.8/site-packages/torch/nn/modules/module.py:2041\u001b[1;36m in \u001b[1;35mload_state_dict\u001b[1;36m\n\u001b[1;33m    raise RuntimeError('Error(s) in loading state_dict for {}:\\n\\t{}'.format(\u001b[1;36m\n",
      "\u001b[1;31mRuntimeError\u001b[0m\u001b[1;31m:\u001b[0m Error(s) in loading state_dict for VisionTransformer:\n\tsize mismatch for pos_embed: copying a param with shape torch.Size([1, 64, 64, 1280]) from checkpoint, the shape in current model is torch.Size([1, 4097, 1280]).\n"
     ]
    }
   ],
   "source": [
    "vit.load_state_dict(new_checkpoint,False)"
   ]
  },
  {
   "cell_type": "code",
   "execution_count": 10,
   "metadata": {},
   "outputs": [
    {
     "data": {
      "text/plain": [
       "torch.Size([1, 64, 64, 1280])"
      ]
     },
     "execution_count": 10,
     "metadata": {},
     "output_type": "execute_result"
    }
   ],
   "source": [
    "new_checkpoint['pos_embed'].shape"
   ]
  },
  {
   "cell_type": "code",
   "execution_count": null,
   "metadata": {},
   "outputs": [],
   "source": [
    "mask_decoder_keys_to_remove = ['key1', 'key2', 'key3']  # Replace with the keys you want to remove from mask_decoder\n",
    "prompt_encoder_keys_to_remove = ['key4', 'key5', 'key6']  # Replace with the keys you want to remove from prompt_encoder\n",
    "\n",
    "for key in mask_decoder_keys_to_remove:\n",
    "    mask_decoder.pop(key, None)\n",
    "\n",
    "for key in prompt_encoder_keys_to_remove:\n",
    "    prompt_encoder.pop(key, None)\n"
   ]
  }
 ],
 "metadata": {
  "kernelspec": {
   "display_name": "Python 3 (Spyder)",
   "language": "python3",
   "name": "python3"
  },
  "language_info": {
   "codemirror_mode": {
    "name": "ipython",
    "version": 3
   },
   "file_extension": ".py",
   "mimetype": "text/x-python",
   "name": "python",
   "nbconvert_exporter": "python",
   "pygments_lexer": "ipython3",
   "version": "3.8.10"
  }
 },
 "nbformat": 4,
 "nbformat_minor": 4
}
